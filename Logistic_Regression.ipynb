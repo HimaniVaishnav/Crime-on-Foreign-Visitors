{
 "cells": [
  {
   "cell_type": "code",
   "execution_count": 1,
   "metadata": {},
   "outputs": [],
   "source": [
    "import numpy as np\n",
    "import matplotlib.pyplot as plt\n",
    "import pandas as pd"
   ]
  },
  {
   "cell_type": "code",
   "execution_count": 2,
   "metadata": {},
   "outputs": [
    {
     "data": {
      "text/html": [
       "<div>\n",
       "<style scoped>\n",
       "    .dataframe tbody tr th:only-of-type {\n",
       "        vertical-align: middle;\n",
       "    }\n",
       "\n",
       "    .dataframe tbody tr th {\n",
       "        vertical-align: top;\n",
       "    }\n",
       "\n",
       "    .dataframe thead th {\n",
       "        text-align: right;\n",
       "    }\n",
       "</style>\n",
       "<table border=\"1\" class=\"dataframe\">\n",
       "  <thead>\n",
       "    <tr style=\"text-align: right;\">\n",
       "      <th></th>\n",
       "      <th>Category</th>\n",
       "      <th>CrimeHead</th>\n",
       "      <th>Cases of Crimes Committed against - Foreign Tourists</th>\n",
       "      <th>Cases of Crimes Committed against - Other Foreigners</th>\n",
       "      <th>Cases of Crimes Committed against - Total Foreigners</th>\n",
       "    </tr>\n",
       "  </thead>\n",
       "  <tbody>\n",
       "    <tr>\n",
       "      <th>0</th>\n",
       "      <td>IPC</td>\n",
       "      <td>Murder</td>\n",
       "      <td>6</td>\n",
       "      <td>6</td>\n",
       "      <td>12</td>\n",
       "    </tr>\n",
       "    <tr>\n",
       "      <th>1</th>\n",
       "      <td>IPC</td>\n",
       "      <td>Culpable Homicide not Amounting to Murder</td>\n",
       "      <td>2</td>\n",
       "      <td>0</td>\n",
       "      <td>2</td>\n",
       "    </tr>\n",
       "    <tr>\n",
       "      <th>2</th>\n",
       "      <td>IPC</td>\n",
       "      <td>Attempt to Commit Murder</td>\n",
       "      <td>0</td>\n",
       "      <td>1</td>\n",
       "      <td>1</td>\n",
       "    </tr>\n",
       "    <tr>\n",
       "      <th>3</th>\n",
       "      <td>IPC</td>\n",
       "      <td>Attempt to Commit Culpable Homicide</td>\n",
       "      <td>0</td>\n",
       "      <td>0</td>\n",
       "      <td>0</td>\n",
       "    </tr>\n",
       "    <tr>\n",
       "      <th>4</th>\n",
       "      <td>IPC</td>\n",
       "      <td>Grievous Hurt</td>\n",
       "      <td>2</td>\n",
       "      <td>0</td>\n",
       "      <td>2</td>\n",
       "    </tr>\n",
       "    <tr>\n",
       "      <th>5</th>\n",
       "      <td>IPC</td>\n",
       "      <td>Assault on Women with Intent to Outrage \\nher ...</td>\n",
       "      <td>30</td>\n",
       "      <td>8</td>\n",
       "      <td>38</td>\n",
       "    </tr>\n",
       "    <tr>\n",
       "      <th>6</th>\n",
       "      <td>IPC</td>\n",
       "      <td>Kidnapping &amp; Abduction</td>\n",
       "      <td>3</td>\n",
       "      <td>0</td>\n",
       "      <td>3</td>\n",
       "    </tr>\n",
       "    <tr>\n",
       "      <th>7</th>\n",
       "      <td>IPC</td>\n",
       "      <td>Human Trafficking</td>\n",
       "      <td>1</td>\n",
       "      <td>1</td>\n",
       "      <td>2</td>\n",
       "    </tr>\n",
       "    <tr>\n",
       "      <th>8</th>\n",
       "      <td>IPC</td>\n",
       "      <td>Rape</td>\n",
       "      <td>14</td>\n",
       "      <td>5</td>\n",
       "      <td>19</td>\n",
       "    </tr>\n",
       "    <tr>\n",
       "      <th>9</th>\n",
       "      <td>IPC</td>\n",
       "      <td>Theft</td>\n",
       "      <td>104</td>\n",
       "      <td>38</td>\n",
       "      <td>142</td>\n",
       "    </tr>\n",
       "    <tr>\n",
       "      <th>10</th>\n",
       "      <td>IPC</td>\n",
       "      <td>Extortion</td>\n",
       "      <td>0</td>\n",
       "      <td>1</td>\n",
       "      <td>1</td>\n",
       "    </tr>\n",
       "    <tr>\n",
       "      <th>11</th>\n",
       "      <td>IPC</td>\n",
       "      <td>Robbery</td>\n",
       "      <td>16</td>\n",
       "      <td>3</td>\n",
       "      <td>19</td>\n",
       "    </tr>\n",
       "    <tr>\n",
       "      <th>12</th>\n",
       "      <td>IPC</td>\n",
       "      <td>Dacoity</td>\n",
       "      <td>2</td>\n",
       "      <td>0</td>\n",
       "      <td>2</td>\n",
       "    </tr>\n",
       "    <tr>\n",
       "      <th>13</th>\n",
       "      <td>IPC</td>\n",
       "      <td>Cheating</td>\n",
       "      <td>7</td>\n",
       "      <td>1</td>\n",
       "      <td>8</td>\n",
       "    </tr>\n",
       "    <tr>\n",
       "      <th>14</th>\n",
       "      <td>IPC</td>\n",
       "      <td>Forgery</td>\n",
       "      <td>3</td>\n",
       "      <td>0</td>\n",
       "      <td>3</td>\n",
       "    </tr>\n",
       "    <tr>\n",
       "      <th>15</th>\n",
       "      <td>IPC</td>\n",
       "      <td>Insult to the Modesty of Women</td>\n",
       "      <td>1</td>\n",
       "      <td>1</td>\n",
       "      <td>2</td>\n",
       "    </tr>\n",
       "    <tr>\n",
       "      <th>16</th>\n",
       "      <td>IPC</td>\n",
       "      <td>Other IPC *</td>\n",
       "      <td>83</td>\n",
       "      <td>27</td>\n",
       "      <td>110</td>\n",
       "    </tr>\n",
       "    <tr>\n",
       "      <th>17</th>\n",
       "      <td>Total (A)</td>\n",
       "      <td>Total (A)</td>\n",
       "      <td>274</td>\n",
       "      <td>92</td>\n",
       "      <td>366</td>\n",
       "    </tr>\n",
       "    <tr>\n",
       "      <th>18</th>\n",
       "      <td>SLL</td>\n",
       "      <td>Immoral Traffic (Prevention) Act, 1956</td>\n",
       "      <td>2</td>\n",
       "      <td>0</td>\n",
       "      <td>2</td>\n",
       "    </tr>\n",
       "    <tr>\n",
       "      <th>19</th>\n",
       "      <td>SLL</td>\n",
       "      <td>Other SLL</td>\n",
       "      <td>8</td>\n",
       "      <td>6</td>\n",
       "      <td>14</td>\n",
       "    </tr>\n",
       "    <tr>\n",
       "      <th>20</th>\n",
       "      <td>Total (B)</td>\n",
       "      <td>Total (B)</td>\n",
       "      <td>10</td>\n",
       "      <td>6</td>\n",
       "      <td>16</td>\n",
       "    </tr>\n",
       "    <tr>\n",
       "      <th>21</th>\n",
       "      <td>Total (A+B)</td>\n",
       "      <td>Total (A+B)</td>\n",
       "      <td>284</td>\n",
       "      <td>98</td>\n",
       "      <td>382</td>\n",
       "    </tr>\n",
       "  </tbody>\n",
       "</table>\n",
       "</div>"
      ],
      "text/plain": [
       "      Category                                          CrimeHead   \\\n",
       "0           IPC                                             Murder   \n",
       "1           IPC          Culpable Homicide not Amounting to Murder   \n",
       "2           IPC                           Attempt to Commit Murder   \n",
       "3           IPC                Attempt to Commit Culpable Homicide   \n",
       "4           IPC                                      Grievous Hurt   \n",
       "5           IPC  Assault on Women with Intent to Outrage \\nher ...   \n",
       "6           IPC                             Kidnapping & Abduction   \n",
       "7           IPC                                  Human Trafficking   \n",
       "8           IPC                                               Rape   \n",
       "9           IPC                                              Theft   \n",
       "10          IPC                                          Extortion   \n",
       "11          IPC                                            Robbery   \n",
       "12          IPC                                            Dacoity   \n",
       "13          IPC                                           Cheating   \n",
       "14          IPC                                            Forgery   \n",
       "15          IPC                     Insult to the Modesty of Women   \n",
       "16          IPC                                        Other IPC *   \n",
       "17    Total (A)                                          Total (A)   \n",
       "18          SLL             Immoral Traffic (Prevention) Act, 1956   \n",
       "19          SLL                                          Other SLL   \n",
       "20    Total (B)                                          Total (B)   \n",
       "21  Total (A+B)                                        Total (A+B)   \n",
       "\n",
       "    Cases of Crimes Committed against - Foreign Tourists  \\\n",
       "0                                                   6      \n",
       "1                                                   2      \n",
       "2                                                   0      \n",
       "3                                                   0      \n",
       "4                                                   2      \n",
       "5                                                  30      \n",
       "6                                                   3      \n",
       "7                                                   1      \n",
       "8                                                  14      \n",
       "9                                                 104      \n",
       "10                                                  0      \n",
       "11                                                 16      \n",
       "12                                                  2      \n",
       "13                                                  7      \n",
       "14                                                  3      \n",
       "15                                                  1      \n",
       "16                                                 83      \n",
       "17                                                274      \n",
       "18                                                  2      \n",
       "19                                                  8      \n",
       "20                                                 10      \n",
       "21                                                284      \n",
       "\n",
       "    Cases of Crimes Committed against - Other Foreigners  \\\n",
       "0                                                   6      \n",
       "1                                                   0      \n",
       "2                                                   1      \n",
       "3                                                   0      \n",
       "4                                                   0      \n",
       "5                                                   8      \n",
       "6                                                   0      \n",
       "7                                                   1      \n",
       "8                                                   5      \n",
       "9                                                  38      \n",
       "10                                                  1      \n",
       "11                                                  3      \n",
       "12                                                  0      \n",
       "13                                                  1      \n",
       "14                                                  0      \n",
       "15                                                  1      \n",
       "16                                                 27      \n",
       "17                                                 92      \n",
       "18                                                  0      \n",
       "19                                                  6      \n",
       "20                                                  6      \n",
       "21                                                 98      \n",
       "\n",
       "    Cases of Crimes Committed against - Total Foreigners   \n",
       "0                                                  12      \n",
       "1                                                   2      \n",
       "2                                                   1      \n",
       "3                                                   0      \n",
       "4                                                   2      \n",
       "5                                                  38      \n",
       "6                                                   3      \n",
       "7                                                   2      \n",
       "8                                                  19      \n",
       "9                                                 142      \n",
       "10                                                  1      \n",
       "11                                                 19      \n",
       "12                                                  2      \n",
       "13                                                  8      \n",
       "14                                                  3      \n",
       "15                                                  2      \n",
       "16                                                110      \n",
       "17                                                366      \n",
       "18                                                  2      \n",
       "19                                                 14      \n",
       "20                                                 16      \n",
       "21                                                382      "
      ]
     },
     "execution_count": 2,
     "metadata": {},
     "output_type": "execute_result"
    }
   ],
   "source": [
    "# Importing the dataset\n",
    "myData = pd.read_csv('Foreign Tourists.csv')\n",
    "myData"
   ]
  },
  {
   "cell_type": "code",
   "execution_count": 3,
   "metadata": {},
   "outputs": [
    {
     "data": {
      "text/plain": [
       "array([[  6,   6],\n",
       "       [  2,   0],\n",
       "       [  0,   1],\n",
       "       [  0,   0],\n",
       "       [  2,   0],\n",
       "       [ 30,   8],\n",
       "       [  3,   0],\n",
       "       [  1,   1],\n",
       "       [ 14,   5],\n",
       "       [104,  38],\n",
       "       [  0,   1],\n",
       "       [ 16,   3],\n",
       "       [  2,   0],\n",
       "       [  7,   1],\n",
       "       [  3,   0],\n",
       "       [  1,   1],\n",
       "       [ 83,  27],\n",
       "       [274,  92],\n",
       "       [  2,   0],\n",
       "       [  8,   6],\n",
       "       [ 10,   6],\n",
       "       [284,  98]], dtype=int64)"
      ]
     },
     "execution_count": 3,
     "metadata": {},
     "output_type": "execute_result"
    }
   ],
   "source": [
    "X = myData.iloc[:, [2,3]].values\n",
    "X"
   ]
  },
  {
   "cell_type": "code",
   "execution_count": 4,
   "metadata": {},
   "outputs": [
    {
     "data": {
      "text/plain": [
       "array([ 12,   2,   1,   0,   2,  38,   3,   2,  19, 142,   1,  19,   2,\n",
       "         8,   3,   2, 110, 366,   2,  14,  16, 382], dtype=int64)"
      ]
     },
     "execution_count": 4,
     "metadata": {},
     "output_type": "execute_result"
    }
   ],
   "source": [
    "y = myData.iloc[:, 4].values\n",
    "y"
   ]
  },
  {
   "cell_type": "code",
   "execution_count": 5,
   "metadata": {},
   "outputs": [
    {
     "data": {
      "text/plain": [
       "22"
      ]
     },
     "execution_count": 5,
     "metadata": {},
     "output_type": "execute_result"
    }
   ],
   "source": [
    "len(myData)\n"
   ]
  },
  {
   "cell_type": "code",
   "execution_count": 6,
   "metadata": {},
   "outputs": [],
   "source": [
    "# Splitting the dataset into the Training set and Test set\n",
    "from sklearn.model_selection import train_test_split\n",
    "X_train, X_test, y_train, y_test = train_test_split(X, y, test_size = 0.25, random_state = 0)"
   ]
  },
  {
   "cell_type": "code",
   "execution_count": 7,
   "metadata": {},
   "outputs": [
    {
     "name": "stderr",
     "output_type": "stream",
     "text": [
      "C:\\Users\\HP\\Anaconda3\\lib\\site-packages\\sklearn\\utils\\validation.py:475: DataConversionWarning: Data with input dtype int64 was converted to float64 by StandardScaler.\n",
      "  warnings.warn(msg, DataConversionWarning)\n"
     ]
    }
   ],
   "source": [
    "# Feature Scaling\n",
    "from sklearn.preprocessing import StandardScaler\n",
    "sc = StandardScaler()\n",
    "X_train = sc.fit_transform(X_train)\n",
    "X_test = sc.transform(X_test)"
   ]
  },
  {
   "cell_type": "code",
   "execution_count": 8,
   "metadata": {},
   "outputs": [
    {
     "data": {
      "text/plain": [
       "array([[-0.26363854, -0.37739277],\n",
       "       [-0.38000314, -0.24800096],\n",
       "       [-0.29272969, -0.29113156],\n",
       "       [-0.45273101, -0.50678457],\n",
       "       [ 0.71091497,  0.65774168],\n",
       "       [-0.46727659, -0.50678457],\n",
       "       [-0.49636774, -0.46365397],\n",
       "       [-0.0600005 , -0.16173976],\n",
       "       [ 3.48911974,  3.46123079],\n",
       "       [ 1.01637204,  1.1321783 ],\n",
       "       [-0.48182216, -0.46365397],\n",
       "       [-0.46727659, -0.50678457],\n",
       "       [-0.49636774, -0.50678457],\n",
       "       [-0.40909429, -0.24800096],\n",
       "       [-0.48182216, -0.46365397],\n",
       "       [-0.46727659, -0.50678457]])"
      ]
     },
     "execution_count": 8,
     "metadata": {},
     "output_type": "execute_result"
    }
   ],
   "source": [
    "X_train"
   ]
  },
  {
   "cell_type": "code",
   "execution_count": 9,
   "metadata": {},
   "outputs": [
    {
     "data": {
      "text/plain": [
       "array([ 19,  14,  19,   3, 110,   2,   1,  38, 366, 142,   2,   2,   0,\n",
       "        12,   2,   2], dtype=int64)"
      ]
     },
     "execution_count": 9,
     "metadata": {},
     "output_type": "execute_result"
    }
   ],
   "source": [
    "y_train"
   ]
  },
  {
   "cell_type": "code",
   "execution_count": 10,
   "metadata": {},
   "outputs": [
    {
     "data": {
      "text/plain": [
       "LogisticRegression(C=1.0, class_weight=None, dual=False, fit_intercept=True,\n",
       "          intercept_scaling=1, max_iter=100, multi_class='ovr', n_jobs=1,\n",
       "          penalty='l2', random_state=0, solver='liblinear', tol=0.0001,\n",
       "          verbose=0, warm_start=False)"
      ]
     },
     "execution_count": 10,
     "metadata": {},
     "output_type": "execute_result"
    }
   ],
   "source": [
    "# Fitting Logistic Regression to the Training set\n",
    "from sklearn.linear_model import LogisticRegression\n",
    "classifier = LogisticRegression(random_state = 0)\n",
    "classifier.fit(X_train, y_train)"
   ]
  },
  {
   "cell_type": "code",
   "execution_count": 11,
   "metadata": {},
   "outputs": [],
   "source": [
    "y_pred = classifier.predict(X_test)"
   ]
  },
  {
   "cell_type": "code",
   "execution_count": 12,
   "metadata": {},
   "outputs": [
    {
     "data": {
      "text/plain": [
       "array([  2,   2,   2,   2,   2, 366], dtype=int64)"
      ]
     },
     "execution_count": 12,
     "metadata": {},
     "output_type": "execute_result"
    }
   ],
   "source": [
    "y_pred"
   ]
  },
  {
   "cell_type": "code",
   "execution_count": 13,
   "metadata": {},
   "outputs": [],
   "source": [
    "from sklearn.metrics import confusion_matrix"
   ]
  },
  {
   "cell_type": "code",
   "execution_count": 14,
   "metadata": {},
   "outputs": [],
   "source": [
    "cm = confusion_matrix(y_test, y_pred)"
   ]
  },
  {
   "cell_type": "code",
   "execution_count": 15,
   "metadata": {},
   "outputs": [
    {
     "data": {
      "text/plain": [
       "array([[0, 1, 0, 0, 0, 0, 0],\n",
       "       [0, 1, 0, 0, 0, 0, 0],\n",
       "       [0, 1, 0, 0, 0, 0, 0],\n",
       "       [0, 1, 0, 0, 0, 0, 0],\n",
       "       [0, 1, 0, 0, 0, 0, 0],\n",
       "       [0, 0, 0, 0, 0, 0, 0],\n",
       "       [0, 0, 0, 0, 0, 1, 0]], dtype=int64)"
      ]
     },
     "execution_count": 15,
     "metadata": {},
     "output_type": "execute_result"
    }
   ],
   "source": [
    "cm"
   ]
  },
  {
   "cell_type": "code",
   "execution_count": 16,
   "metadata": {},
   "outputs": [
    {
     "name": "stderr",
     "output_type": "stream",
     "text": [
      "C:\\Users\\HP\\Anaconda3\\lib\\site-packages\\sklearn\\utils\\validation.py:475: DataConversionWarning: Data with input dtype int64 was converted to float64 by StandardScaler.\n",
      "  warnings.warn(msg, DataConversionWarning)\n"
     ]
    },
    {
     "data": {
      "text/plain": [
       "array([[0, 0, 1, 0, 0, 0, 0, 0, 0, 0, 0, 0, 0, 0],\n",
       "       [0, 0, 2, 0, 0, 0, 0, 0, 0, 0, 0, 0, 0, 0],\n",
       "       [0, 0, 6, 0, 0, 0, 0, 0, 0, 0, 0, 0, 0, 0],\n",
       "       [0, 0, 2, 0, 0, 0, 0, 0, 0, 0, 0, 0, 0, 0],\n",
       "       [0, 0, 1, 0, 0, 0, 0, 0, 0, 0, 0, 0, 0, 0],\n",
       "       [0, 0, 1, 0, 0, 0, 0, 0, 0, 0, 0, 0, 0, 0],\n",
       "       [0, 0, 1, 0, 0, 0, 0, 0, 0, 0, 0, 0, 0, 0],\n",
       "       [0, 0, 1, 0, 0, 0, 0, 0, 0, 0, 0, 0, 0, 0],\n",
       "       [0, 0, 2, 0, 0, 0, 0, 0, 0, 0, 0, 0, 0, 0],\n",
       "       [0, 0, 1, 0, 0, 0, 0, 0, 0, 0, 0, 0, 0, 0],\n",
       "       [0, 0, 0, 0, 0, 0, 0, 0, 0, 0, 0, 0, 1, 0],\n",
       "       [0, 0, 0, 0, 0, 0, 0, 0, 0, 0, 0, 0, 1, 0],\n",
       "       [0, 0, 0, 0, 0, 0, 0, 0, 0, 0, 0, 0, 1, 0],\n",
       "       [0, 0, 0, 0, 0, 0, 0, 0, 0, 0, 0, 0, 1, 0]], dtype=int64)"
      ]
     },
     "execution_count": 16,
     "metadata": {},
     "output_type": "execute_result"
    }
   ],
   "source": [
    "confusion_matrix(y, classifier.predict(sc.fit_transform(X)))"
   ]
  },
  {
   "cell_type": "code",
   "execution_count": 17,
   "metadata": {},
   "outputs": [],
   "source": [
    "from mpl_toolkits.mplot3d import Axes3D"
   ]
  },
  {
   "cell_type": "code",
   "execution_count": 18,
   "metadata": {},
   "outputs": [
    {
     "data": {
      "text/plain": [
       "0                                                Murder\n",
       "1             Culpable Homicide not Amounting to Murder\n",
       "2                              Attempt to Commit Murder\n",
       "3                   Attempt to Commit Culpable Homicide\n",
       "4                                         Grievous Hurt\n",
       "5     Assault on Women with Intent to Outrage \\nher ...\n",
       "6                                Kidnapping & Abduction\n",
       "7                                     Human Trafficking\n",
       "8                                                  Rape\n",
       "9                                                 Theft\n",
       "10                                            Extortion\n",
       "11                                              Robbery\n",
       "12                                              Dacoity\n",
       "13                                             Cheating\n",
       "14                                              Forgery\n",
       "15                       Insult to the Modesty of Women\n",
       "16                                          Other IPC *\n",
       "17                                            Total (A)\n",
       "18               Immoral Traffic (Prevention) Act, 1956\n",
       "19                                            Other SLL\n",
       "20                                            Total (B)\n",
       "21                                          Total (A+B)\n",
       "Name: CrimeHead , dtype: object"
      ]
     },
     "execution_count": 18,
     "metadata": {},
     "output_type": "execute_result"
    }
   ],
   "source": [
    "myData.iloc[:,1]"
   ]
  },
  {
   "cell_type": "code",
   "execution_count": 19,
   "metadata": {},
   "outputs": [
    {
     "data": {
      "image/png": "[encoded data removed]",
      "text/plain": [
       "<Figure size 432x288 with 1 Axes>"
      ]
     },
     "metadata": {},
     "output_type": "display_data"
    }
   ],
   "source": [
    "fig = plt.figure()\n",
    "ax = fig.add_subplot(111, projection='3d')\n",
    "ax.scatter(myData.iloc[:,2],myData.iloc[:,3],myData.iloc[:,4])\n",
    "ax.set_xlabel('X Label')\n",
    "ax.set_ylabel('Y Label')\n",
    "ax.set_zlabel('Z Label')\n",
    "plt.show()"
   ]
  },
  {
   "cell_type": "code",
   "execution_count": 20,
   "metadata": {},
   "outputs": [
    {
     "data": {
      "image/png": "[encoded data removed]",
      "text/plain": [
       "<Figure size 432x288 with 1 Axes>"
      ]
     },
     "metadata": {},
     "output_type": "display_data"
    }
   ],
   "source": [
    "fig = plt.figure()\n",
    "ax = fig.add_subplot(111, projection='3d')\n",
    "ax.scatter(myData.iloc[:,2],myData.iloc[:,3], myData.iloc[:,4],c=y, marker='o')\n",
    "ax.set_xlabel('Crimes Committed against - Foreign Tourists')\n",
    "ax.set_ylabel('Crimes Committed against - Other Foreigners')\n",
    "ax.set_zlabel('Total Foreigners')\n",
    "plt.show()"
   ]
  },
  {
   "cell_type": "code",
   "execution_count": null,
   "metadata": {},
   "outputs": [],
   "source": []
  },
  {
   "cell_type": "code",
   "execution_count": null,
   "metadata": {},
   "outputs": [],
   "source": []
  }
 ],
 "metadata": {
  "kernelspec": {
   "display_name": "Python 3",
   "language": "python",
   "name": "python3"
  },
  "language_info": {
   "codemirror_mode": {
    "name": "ipython",
    "version": 3
   },
   "file_extension": ".py",
   "mimetype": "text/x-python",
   "name": "python",
   "nbconvert_exporter": "python",
   "pygments_lexer": "ipython3",
   "version": "3.6.5"
  }
 },
 "nbformat": 4,
 "nbformat_minor": 2
}
